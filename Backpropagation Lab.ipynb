{
  "cells": [
    {
      "cell_type": "markdown",
      "metadata": {
        "id": "DVL7_bgmIAPR"
      },
      "source": [
        "# Backpropagation Lab\n",
        "\n",
        "\n",
        "\n"
      ]
    },
    {
      "cell_type": "code",
      "execution_count": 1,
      "metadata": {
        "id": "6ZbYjZZZ_yLV"
      },
      "outputs": [],
      "source": [
        "from sklearn.neural_network import MLPClassifier\n",
        "import numpy as np\n",
        "import pandas as pd\n",
        "import matplotlib.pyplot as plt"
      ]
    },
    {
      "cell_type": "markdown",
      "metadata": {
        "id": "9vWiTdlbR2Xh"
      },
      "source": [
        "## 1 Avoiding Overfit: Early Stopping and Loss Regularization\n",
        "\n",
        "### 1.1 (10%) No overfit avoidance\n",
        "Train the sklearn [MLP classifier](https://scikit-learn.org/stable/modules/generated/sklearn.neural_network.MLPClassifier.html#sklearn.neural_network.MLPClassifier) on the [Iris Dataset](https://raw.githubusercontent.com/cs472ta/CS472/master/datasets/iris.arff).  Use 3 output nodes (1 per class). Expanding the one output variable into 3 is called one-hot encoding or dummy variable encoding. There are lots of ways to implement this including the Pandas get_dummies method. This experiment is set up to run a little longer to better see the effects of overfit.  Be patient as there are lots of hidden nodes and a high max iterations setting.\n",
        "\n",
        "Use default parameters except for the following:\n",
        "- hidden_layer_sizes = [64] - One hidden layer with 64 hidden nodes\n",
        "- activation = 'logistic'\n",
        "- solver = 'sgd'\n",
        "- alpha = 0\n",
        "- batch_size = 1\n",
        "- learning_rate_init = 0.01\n",
        "- shuffle = True\n",
        "- momentum = 0\n",
        "- n_iter_no_change = 50\n",
        "- max_iterations = 10000\n",
        "\n",
        "Use a random 80/20 split of the data.  Run it a few times with different random training/test splits and give average values for\n",
        "- Number of iterations until convergence\n",
        "- Training set accuracy\n",
        "- Test set accuracy\n",
        "For one run observe the softmax probabilities on the test set using clf.predict_proba"
      ]
    },
    {
      "cell_type": "code",
      "execution_count": 2,
      "metadata": {
        "colab": {
          "base_uri": "https://localhost:8080/"
        },
        "id": "rXAJG4oGLKWD",
        "outputId": "27376191-1240-47cb-fc22-a63abab1f80d"
      },
      "outputs": [
        {
          "output_type": "stream",
          "name": "stdout",
          "text": [
            "Iterations to converge: 1000\n",
            "Train accuracy: 0.9833\n",
            "Test accuracy: 0.9667\n"
          ]
        },
        {
          "output_type": "stream",
          "name": "stderr",
          "text": [
            "/usr/local/lib/python3.11/dist-packages/sklearn/neural_network/_multilayer_perceptron.py:691: ConvergenceWarning: Stochastic Optimizer: Maximum iterations (1000) reached and the optimization hasn't converged yet.\n",
            "  warnings.warn(\n"
          ]
        }
      ],
      "source": [
        "import numpy as np\n",
        "import pandas as pd\n",
        "import matplotlib.pyplot as plt\n",
        "from sklearn.model_selection import train_test_split\n",
        "from sklearn.neural_network import MLPClassifier\n",
        "from sklearn.metrics import accuracy_score\n",
        "from sklearn.preprocessing import OneHotEncoder\n",
        "from scipy.io import arff\n",
        "from sklearn.preprocessing import OneHotEncoder, LabelEncoder # Import LabelEncoder\n",
        "\n",
        "\n",
        "iris_data = arff.loadarff('iris.arff')\n",
        "iris_df = pd.DataFrame(iris_data[0])\n",
        "iris_df.head()\n",
        "\n",
        "\n",
        "X = iris_df.iloc[:, :-1].values\n",
        "y = iris_df.iloc[:, -1].values\n",
        "\n",
        "#error! solved from google colabs suggest!\n",
        "label_encoder = LabelEncoder() # Create a LabelEncoder object\n",
        "y = label_encoder.fit_transform(y) # Fit and transform the target variable\n",
        "\n",
        "X_train, X_test, y_train, y_test = train_test_split(X, y, test_size=0.2)\n",
        "\n",
        "clf = MLPClassifier(\n",
        "    hidden_layer_sizes=(64,),\n",
        "    activation='logistic',\n",
        "    solver='sgd',\n",
        "    alpha=0,\n",
        "    batch_size=1,\n",
        "    learning_rate_init=0.01,\n",
        "    shuffle=True,\n",
        "    momentum=0,\n",
        "    n_iter_no_change=10000,\n",
        "    max_iter=1000\n",
        ")\n",
        "\n",
        "clf.fit(X_train, y_train)\n",
        "y_pred = clf.predict(X_test)\n",
        "\n",
        "train_accuracy = clf.score(X_train, y_train)\n",
        "test_accuracy = clf.score(X_test, y_test)\n",
        "\n",
        "print(\"Iterations to converge:\", clf.n_iter_)\n",
        "print(\"Train accuracy:\", round(train_accuracy, 4))\n",
        "print(\"Test accuracy:\", round(test_accuracy, 4))\n",
        "\n",
        "#Number to convergence: 10000\n",
        "#Training accuracy: 0.9833\n",
        "#Test accuracy: 1.0000\n",
        "\n",
        "#Number to convergence: 1000\n",
        "#Training accuracy: 0.9917\n",
        "#Test accuracy: 0.9333\n",
        "\n",
        "#Iterations to converge: 1000\n",
        "#Train accuracy: 0.9917\n",
        "#Test accuracy: 0.9667\n"
      ]
    },
    {
      "cell_type": "markdown",
      "metadata": {
        "id": "BvhufiLnLKWE"
      },
      "source": [
        "#### Discussion\n",
        "In the markdown cell below, write about your experience training the MLP classifier. Things to cover in your discussion: How long did it take? What was your accuracy on the training set? What was your accuracy on the testing set? Do you see any evidence of overfitting? If so, what could be done to reduce the effects of overfitting?"
      ]
    },
    {
      "cell_type": "markdown",
      "metadata": {
        "id": "cqyXWYUXLKWE"
      },
      "source": [
        "I ran this cell about 7 times and I recorded the 2nd, 5th, and 7th traing accuracy and test accuracy. the training accuracy is higher than the test accuracy"
      ]
    },
    {
      "cell_type": "markdown",
      "metadata": {
        "id": "v6jI5vTXLKWE"
      },
      "source": [
        "### 1.2 (10%) Early Stopping (Validation Set)\n",
        "\n",
        "- Do the same as above but this time with early stopping\n",
        "- Use a validation set taken from the training set for your stopping criteria. Using 10-15% of the training set for a validation set is common. You do this simply by setting the MLPClassifier early_stopping, validation_fraction, and n_iter_no_change parameters.\n",
        "- Run it a few times with different training/test splits and give average values for\n",
        "    - Number of iterations until convergence\n",
        "    - Training set accuracy\n",
        "    - Test set accuracy\n",
        "    - Best validation score (MLPClassifer attribute best_validation_score_)\n",
        "- For one run create a graph with validation set accuracy (*y*-axis) vs epochs (*x*-axis). Hint: MLPClassifer attribute validation_scores_\n",
        "\n",
        "Note: Due to the simplicity of and lack of noise in the iris data set you will not see the accuracy improvements that early stopping or loss regularization can give for more complex noisy datasets.  In particular, early stopping will have lower than expected results because with a very small VS taken from a very small training set there is less data to train on and more variance with the VS score.  Thus, you will probably get lower accuracies for VS than normal training for this less typical case.  But at least you will get practice on using early stopping and loss regularization for future data sets."
      ]
    },
    {
      "cell_type": "code",
      "execution_count": 3,
      "metadata": {
        "colab": {
          "base_uri": "https://localhost:8080/"
        },
        "id": "vQozkfNfLKWE",
        "outputId": "dd158c09-8632-41bf-80f4-88f9cd301bf2"
      },
      "outputs": [
        {
          "output_type": "stream",
          "name": "stdout",
          "text": [
            "test score 0.9666666666666667\n",
            "train score 0.975\n",
            "num of iterations:  82\n",
            "best validation score 1.0\n"
          ]
        }
      ],
      "source": [
        "X_train, X_test, y_train, y_test = train_test_split(X, y, test_size=0.2, random_state=42)\n",
        "\n",
        "#Use a validation set taken from the training set for your stopping criteria.\n",
        "#Using 10-15% of the training set for a validation set is common.\n",
        "#You do this simply by setting the MLPClassifier early_stopping, validation_fraction,\n",
        "#and n_iter_no_change parameters.\n",
        "\n",
        "# Initialize the MLPClassifier\n",
        "clf = MLPClassifier(\n",
        "    early_stopping=True, #for the early stopping\n",
        "    validation_fraction=0.15, #validation set\n",
        "    hidden_layer_sizes=(64,),\n",
        "    activation='logistic',\n",
        "    solver='sgd',\n",
        "    alpha=0,\n",
        "    batch_size=1,\n",
        "    learning_rate_init=0.01,\n",
        "    shuffle=True,\n",
        "    momentum=0,\n",
        "    n_iter_no_change=50,\n",
        "    max_iter=1000\n",
        ")\n",
        "\n",
        "# Train the model\n",
        "clf.fit(X_train, y_train)\n",
        "y_pred = clf.predict(X_test)\n",
        "\n",
        "print(\"test score\", accuracy_score(y_test, y_pred))\n",
        "print (\"train score\", clf.score(X_train, y_train))\n",
        "print(\"num of iterations: \", clf.n_iter_)\n",
        "print(\"best validation score\", clf.best_validation_score_)\n",
        "\n",
        "#forcing it to learn to 100000\n",
        "# Number to convergence: 10000\n",
        "#Training set accuracy: 0.9500\n",
        "#Test set accuracy: 0.9667\n",
        "#best validation score: 1.0000\n",
        "\n",
        "#Iterations to converge: 53\n",
        "#Train accuracy: 0.8833\n",
        "#Test accuracy: 0.8667\n",
        "#best validation score 1.0\n",
        "\n",
        "#Iterations to converge: 65\n",
        "#Train accuracy: 0.9583\n",
        "#Test accuracy: 0.9333\n",
        "#best validation score 1.0\n",
        "\n",
        "#Iterations to converge: 60\n",
        "#Train accuracy: 0.9583\n",
        "#Test accuracy: 0.9667\n",
        "#best validation score 1.0\n",
        "\n",
        "#num of iterations:  348\n",
        "#test score 0.8566142460684552\n",
        "#train score 0.8748554244737451\n",
        "#best validation score 0.8736517719568567\n",
        "\n",
        "#test score 0.9666666666666667\n",
        "#train score 0.975\n",
        "#num of iterations:  82\n",
        "#best validation score 1.0\n",
        "\n"
      ]
    },
    {
      "cell_type": "code",
      "source": [
        "#For one run create a graph with validation set accuracy (y-axis) vs epochs (x-axis). Hint: MLPClassifer attribute validation_scores_\n",
        "import matplotlib.pyplot as plt #kept getting an error bc forgetting to run first cell with this\n",
        "\n",
        "plt.plot(clf.validation_scores_)\n",
        "plt.xlabel('Epochs')\n",
        "plt.ylabel('Validation Set Accuracy')\n",
        "plt.title('Validation Set Accuracy vs Epochs')\n",
        "plt.grid(True)\n",
        "plt.show()"
      ],
      "metadata": {
        "colab": {
          "base_uri": "https://localhost:8080/",
          "height": 472
        },
        "id": "apZMvmEkgEY8",
        "outputId": "2366560c-191b-449b-9641-0c400db5c205"
      },
      "execution_count": 4,
      "outputs": [
        {
          "output_type": "display_data",
          "data": {
            "text/plain": [
              "<Figure size 640x480 with 1 Axes>"
            ],
            "image/png": "[encoded data removed]"
          },
          "metadata": {}
        }
      ]
    },
    {
      "cell_type": "markdown",
      "metadata": {
        "id": "yIPwuYGJLKWE"
      },
      "source": [
        "#### Discussion\n",
        "Report on the average number of iterations until convergence. What is the effect of the use of the validation set and early stopping on training set accuracy and testing set accuracy? What do you attribute the performance change to? What do you see in the validation scores graph?"
      ]
    },
    {
      "cell_type": "markdown",
      "metadata": {
        "id": "ZNMATZqjtlxs"
      },
      "source": [
        "** Your discussion of average values above and the validation score graph **"
      ]
    },
    {
      "cell_type": "markdown",
      "metadata": {
        "id": "LwPflasKLKWE"
      },
      "source": [
        "### 1.3 (10%) Loss Regularization\n",
        "\n",
        "- Do the same as in 1.1 but his time with loss regularization (Do not do early stopping)\n",
        "- Run it with different L2 regularization parameter values (alpha).  The default for alpha is .0001.  Try other values such as .1, .01, .001, .00001, etc. Make a table with each row including:\n",
        "    - The regularization parameter value\n",
        "    - Number of iterations until convergence\n",
        "    - Training set accuracy\n",
        "    - Test set accuracy\n",
        "    - Best loss value (MLPClassifer attribute best_loss_)\n",
        "- Which regularization value gave you the best results?\n",
        "- For your best regularization value do one run and create a graph with loss (*y*-axis) vs epochs (*x*-axis) for the training set (Hint: MLPClassifer attribute loss_curve_)"
      ]
    },
    {
      "cell_type": "code",
      "execution_count": null,
      "metadata": {
        "colab": {
          "base_uri": "https://localhost:8080/"
        },
        "id": "wDXL15SuLKWE",
        "outputId": "ab106dca-24da-4366-988a-e1df8a1e46ba"
      },
      "outputs": [
        {
          "output_type": "stream",
          "name": "stderr",
          "text": [
            "/usr/local/lib/python3.11/dist-packages/sklearn/neural_network/_multilayer_perceptron.py:691: ConvergenceWarning: Stochastic Optimizer: Maximum iterations (10000) reached and the optimization hasn't converged yet.\n",
            "  warnings.warn(\n"
          ]
        },
        {
          "output_type": "stream",
          "name": "stdout",
          "text": [
            "Alpha: 0.1\n",
            "Iterations: 10000\n",
            "Training Accuracy: 0.7917\n",
            "Test Accuracy: 0.8000\n",
            "Best Loss: 0.8625\n",
            "--------------------------------------------------\n"
          ]
        }
      ],
      "source": [
        "import numpy as np\n",
        "import pandas as pd\n",
        "from sklearn.model_selection import train_test_split\n",
        "from sklearn.neural_network import MLPClassifier\n",
        "from scipy.io import arff\n",
        "from sklearn.preprocessing import LabelEncoder\n",
        "\n",
        "iris_data = arff.loadarff('iris.arff')\n",
        "iris_df = pd.DataFrame(iris_data[0])\n",
        "iris_df.head()\n",
        "\n",
        "X = iris_df.iloc[:, :-1].values\n",
        "y = iris_df.iloc[:, -1].values\n",
        "\n",
        "label_encoder = LabelEncoder() # Create a LabelEncoder object\n",
        "y = label_encoder.fit_transform(y) # Fit and transform the target variable\n",
        "\n",
        "# Split the data into 80% training and 20% testing\n",
        "X_train, X_test, y_train, y_test = train_test_split(X, y, test_size=0.2, random_state=42)\n",
        "\n",
        "# Test alpha = 0.1\n",
        "clf = MLPClassifier(\n",
        "    hidden_layer_sizes=(64,),\n",
        "    activation='logistic',\n",
        "    solver='sgd',\n",
        "    alpha=0.1,\n",
        "    batch_size=1,\n",
        "    learning_rate_init=0.01,\n",
        "    shuffle=True,\n",
        "    momentum=0,\n",
        "    n_iter_no_change=10000,\n",
        "    max_iter=10000,\n",
        "    random_state=42\n",
        ")\n",
        "clf.fit(X_train, y_train)\n",
        "print(f\"Alpha: 0.1\")\n",
        "print(f\"Iterations: {clf.n_iter_}\")\n",
        "print(f\"Training Accuracy: {clf.score(X_train, y_train):.4f}\")\n",
        "print(f\"Test Accuracy: {clf.score(X_test, y_test):.4f}\")\n",
        "print(f\"Best Loss: {clf.best_loss_:.4f}\")\n",
        "print(\"-\" * 50)\n",
        "\n",
        "# Test alpha = 0.01\n",
        "clf = MLPClassifier(\n",
        "    hidden_layer_sizes=(64,),\n",
        "    activation='logistic',\n",
        "    solver='sgd',\n",
        "    alpha=0.01,\n",
        "    batch_size=1,\n",
        "    learning_rate_init=0.01,\n",
        "    shuffle=True,\n",
        "    momentum=0,\n",
        "    max_iter=1000,\n",
        "    random_state=42\n",
        ")\n",
        "clf.fit(X_train, y_train)\n",
        "print(f\"Alpha: 0.01\")\n",
        "print(f\"Iterations: {clf.n_iter_}\")\n",
        "print(f\"Training Accuracy: {clf.score(X_train, y_train):.4f}\")\n",
        "print(f\"Test Accuracy: {clf.score(X_test, y_test):.4f}\")\n",
        "print(f\"Best Loss: {clf.best_loss_:.4f}\")\n",
        "print(\"-\" * 50)\n",
        "\n",
        "# Test alpha = 0.001\n",
        "clf = MLPClassifier(\n",
        "    hidden_layer_sizes=(64,),\n",
        "    activation='logistic',\n",
        "    solver='sgd',\n",
        "    alpha=0.001,\n",
        "    batch_size=1,\n",
        "    learning_rate_init=0.01,\n",
        "    shuffle=True,\n",
        "    momentum=0,\n",
        "    max_iter=1000,\n",
        "    random_state=42\n",
        ")\n",
        "clf.fit(X_train, y_train)\n",
        "print(f\"Alpha: 0.001\")\n",
        "print(f\"Iterations: {clf.n_iter_}\")\n",
        "print(f\"Training Accuracy: {clf.score(X_train, y_train):.4f}\")\n",
        "print(f\"Test Accuracy: {clf.score(X_test, y_test):.4f}\")\n",
        "print(f\"Best Loss: {clf.best_loss_:.4f}\")\n",
        "print(\"-\" * 50)\n",
        "\n",
        "# Test alpha = 0.0001\n",
        "clf = MLPClassifier(\n",
        "    hidden_layer_sizes=(64,),\n",
        "    activation='logistic',\n",
        "    solver='sgd',\n",
        "    alpha=0.0001,\n",
        "    batch_size=1,\n",
        "    learning_rate_init=0.01,\n",
        "    shuffle=True,\n",
        "    momentum=0,\n",
        "    max_iter=1000,\n",
        "    random_state=42\n",
        ")\n",
        "clf.fit(X_train, y_train)\n",
        "print(f\"Alpha: 0.0001\")\n",
        "print(f\"Iterations: {clf.n_iter_}\")\n",
        "print(f\"Training Accuracy: {clf.score(X_train, y_train):.4f}\")\n",
        "print(f\"Test Accuracy: {clf.score(X_test, y_test):.4f}\")\n",
        "print(f\"Best Loss: {clf.best_loss_:.4f}\")\n",
        "print(\"-\" * 50)\n",
        "\n",
        "# Test alpha = 0.00001\n",
        "clf = MLPClassifier(\n",
        "    hidden_layer_sizes=(64,),\n",
        "    activation='logistic',\n",
        "    solver='sgd',\n",
        "    alpha=0.00001,\n",
        "    batch_size=1,\n",
        "    learning_rate_init=0.01,\n",
        "    shuffle=True,\n",
        "    momentum=0,\n",
        "    max_iter=1000,\n",
        "    random_state=42\n",
        ")\n",
        "clf.fit(X_train, y_train)\n",
        "print(f\"Alpha: 0.00001\")\n",
        "print(f\"Iterations: {clf.n_iter_}\")\n",
        "print(f\"Training Accuracy: {clf.score(X_train, y_train):.4f}\")\n",
        "print(f\"Test Accuracy: {clf.score(X_test, y_test):.4f}\")\n",
        "print(f\"Best Loss: {clf.best_loss_:.4f}\")\n",
        "print(\"-\" * 50)\n",
        "\n",
        "#Alpha: 0.1\n",
        "#Iterations: 10000\n",
        "#Training Accuracy: 0.7917\n",
        "#Test Accuracy: 0.8000\n",
        "#Best Loss: 0.8625\n",
        "\n",
        "#Alpha: 0.01\n",
        "#Iterations: 10000\n",
        "#Training Accuracy: 0.9500\n",
        "#Test Accuracy: 0.9667\n",
        "#Best Loss: 0.3258\n",
        "\n",
        "#Alpha: 0.001\n",
        "#Iterations: 10000\n",
        "#Training Accuracy: 0.9750\n",
        "#Test Accuracy: 1.0000\n",
        "#Best Loss: 0.0962\n",
        "\n",
        "#Alpha: 0.0001\n",
        "#Iterations: 7014\n",
        "#Training Accuracy: 0.9833\n",
        "#Test Accuracy: 1.0000\n",
        "#Best Loss: 0.0517\n",
        "\n",
        "#Alpha: 0.00001\n",
        "#Iterations: 10000\n",
        "#Training Accuracy: 0.9833\n",
        "#Test Accuracy: 1.0000\n",
        "#Best Loss: 0.0437\n"
      ]
    },
    {
      "cell_type": "markdown",
      "metadata": {
        "id": "-XseWKhvLKWE"
      },
      "source": [
        "#### Discussion\n",
        "Write about which regularization method gave you the best results and why you think that happened. Also compare: no regularization, early stopping, and L2 loss regularization."
      ]
    },
    {
      "cell_type": "markdown",
      "metadata": {
        "id": "7Upgi0hgLKWE"
      },
      "source": [
        "** Your discussion **"
      ]
    },
    {
      "cell_type": "markdown",
      "metadata": {
        "id": "mOteTlV6S0bq"
      },
      "source": [
        "## 2 Hyperparameters\n",
        "In this section we use the [Vowel Dataset](https://raw.githubusercontent.com/cs472ta/CS472/master/datasets/vowel.arff) to consider the hyperparameters of learning rate, number of hidden nodes, and momentum.\n",
        "\n",
        "### 2.1 (10%) Vowel Dataset Questions\n",
        "- Give the baseline accuracies for the Iris and Vowel datasets. Baseline accuracy is what you would get if the model just outputs the majority class of the data set (i.e. the output value which occurs most often). These two data sets are not great examples for this as they have an equal amount of each class, which is not typical.\n",
        "- Discuss why the vowel data set will probably have lower accuracy than Iris.\n",
        "- Consider which of the vowel dataset's input features you should not use in training and discuss why."
      ]
    },
    {
      "cell_type": "markdown",
      "metadata": {
        "id": "qmq9GSbJS8k2"
      },
      "source": [
        "The baseline accuracy is 33.3% for the Iris dataset (3 equal classes) and about 10% for the Vowel dataset (11 equal classes). The Vowel dataset will likely have lower accuracy than Iris because it has more classes and some vowel sounds are very similar, making classification harder. Features like speaker identity such as whether it is male or female or his/her name, should not be used in training because the model might memorize speakers instead of learning vowel patterns."
      ]
    },
    {
      "cell_type": "markdown",
      "metadata": {
        "id": "SIRG42TgSR4x"
      },
      "source": [
        "### 2.2 (10%) Learning Rate\n",
        "Load the [Vowel Dataset](https://raw.githubusercontent.com/cs472ta/CS472/master/datasets/vowel.arff). Drop any features which you explained above as being inappropriate for training.\n",
        "\n",
        "Hints: Consider the Pandas drop method for dropping columns. When you want to transform features in your data set there are lots of approaches. You could edit the arff file directly, or make the transforms in your code.  The Pandas replace method is nice for that. For example, if you wanted to change the vowel data set gender feature in a Pandas dataframe to 0/1 you could do the following:\n",
        "\n",
        "vowel_df['Sex'] = vowel_df['Sex'].str.decode('utf-8')   //Changes the byte code data into a normal string, b'Male' becomes \"Male\"\\\n",
        "vowel_df = vowel_df.replace('Male', 0)\\\n",
        "vowel_df = vowel_df.replace('Female', 1)\n",
        "\n",
        "- Use one layer of hidden nodes with the number of hidden nodes being twice the number of inputs.\n",
        "- Use a random 75/25 split of the data for the training/test set.\n",
        "- Do not use early stopping.\n",
        "- Try at least 5 different learning rates (LR) from very small (e.g. .001) to pretty big (e.g. 10). Each LR will require a different number of epochs to learn. LR effects both accuracy and time required for learning.\n",
        "- Create a table which includes a row for each LR.  Your table columns should be LR, # epochs to learn the model, final training set accuracy and final test set accuracy.  As learning rates get smaller, it usually takes more epochs to learn. If your model is stopping learning too soon (converging) by hitting max_iterations (in this case and in experiments below), then you need to increase your max_iterations parameter in order to give your model more learning time.  To keep things faster, you don't need to increase max_iter past 1000 if you don't want to, but point out when more iterations may have given improvement.\n",
        "\n",
        "In real testing one averages the results of multiple trials per LR (and other parameters) with different intitial conditions (training/test split, initial weights, etc.). That gives more accurate results but is not required for this lab."
      ]
    },
    {
      "cell_type": "code",
      "execution_count": null,
      "metadata": {
        "id": "KBGUn43ASiXW"
      },
      "outputs": [],
      "source": [
        "import numpy as np\n",
        "import pandas as pd\n",
        "from sklearn.model_selection import train_test_split\n",
        "from sklearn.neural_network import MLPClassifier\n",
        "from scipy.io import arff\n",
        "from sklearn.preprocessing import LabelEncoder\n",
        "from sklearn.metrics import accuracy_score\n",
        "\n",
        "vowel_data = arff.loadarff('vowel.arff')\n",
        "vowel_df = pd.DataFrame(vowel_data[0])\n",
        "vowel_df.head()\n",
        "\n",
        "X = vowel_df.iloc[:, :-1].values\n",
        "y = vowel_df.iloc[:, -1].values\n",
        "\n",
        "label_encoder = LabelEncoder() # Create a LabelEncoder object\n",
        "y = label_encoder.fit_transform(y) # Fit and transform the target variable\n",
        "\n",
        "vowel_df = vowel_df.iloc[:, 1:] #drop the first column bc it is train/test\n",
        "\n",
        "vowel_df['Sex'] = vowel_df['Sex'].str.decode('utf-8') #Changes the byte code data into a normal string, b'Male' becomes \"Male\"\n",
        "vowel_df['Speaker Number'] = vowel_df['Speaker Number'].str.decode('utf-8')\n",
        "\n",
        "vowel_df = vowel_df.replace('Male', 0)\n",
        "vowel_df = vowel_df.replace('Female', 1)\n",
        "vowel_df['Speaker Number'] = vowel_df['Speaker Number'].astype('category').cat.codes\n",
        "\n",
        "X = vowel_df.iloc[:, :-1].values # Features (everything except last column)\n",
        "y = vowel_df.iloc[:, -1].values # Target (last column)\n",
        "\n",
        "label_encoder = LabelEncoder() # Create a LabelEncoder object\n",
        "y = label_encoder.fit_transform(y) # Fit and transform the target variable\n",
        "\n",
        "#training with different learning rates!\n",
        "learing_rates = [0.0001, 0.001, 0.01, 0.1, 1, 10]\n",
        "results = []\n",
        "num_inputs = vowel_df.shape[1]\n",
        "\n",
        "#table\n",
        "results = []\n",
        "\n",
        "X_train, X_test, y_train, y_test = train_test_split(X, y, test_size=0.2, random_state=42)\n",
        "for lr in learing_rates:\n",
        "  clf = MLPClassifier(\n",
        "      hidden_layer_sizes=(64,),\n",
        "      activation='logistic',\n",
        "      solver='sgd',\n",
        "      alpha=0,\n",
        "      batch_size=1,\n",
        "      learning_rate_init=lr, #best lr is 0.01\n",
        "      shuffle=True,\n",
        "      momentum=0,\n",
        "      max_iter=1000,\n",
        "      random_state=42\n",
        "  )\n",
        "\n",
        "  clf.fit(X_train, y_train)\n",
        "  y_pred = clf.predict(X_test)\n",
        "  results.append({'LR': lr,\n",
        "                    'num of epochs': clf.n_iter_,\n",
        "                    'training score': clf.score(X_train, y_train),\n",
        "                    'test score': accuracy_score(y_test, y_pred),\n",
        "                    })\n",
        "\n",
        "results = pd.DataFrame(results)\n",
        "results.head(6)\n",
        "\n",
        "#results\n",
        "\n",
        "#Number of iterations until convergence: 2767\n",
        "#Training set accuracy: 1.0000\n",
        "#Test set accuracy: 0.9394\n",
        "\n",
        "#0\t0.0001\t1000\t0.527778\t0.429293\n",
        "#1\t0.0010\t1000\t0.858586\t0.757576\n",
        "#2\t0.0100\t565\t0.998737\t0.939394 #best learning rate = 0.01\n",
        "#3\t0.1000\t36\t0.719697\t0.626263\n",
        "#4\t1.0000\t15\t0.157828\t0.161616\n",
        "#5\t10.0000\t12\t0.094697\t0.075758\n",
        "\n"
      ]
    },
    {
      "cell_type": "markdown",
      "source": [],
      "metadata": {
        "id": "1KiDFL1HCl5w"
      }
    },
    {
      "cell_type": "markdown",
      "metadata": {
        "id": "xpjJBIwktlxt"
      },
      "source": [
        "#### Discussion\n",
        "Discuss your table and the effect of different learning rates on both training time and accuracy"
      ]
    },
    {
      "cell_type": "markdown",
      "metadata": {
        "id": "Iop9fuK5LKWF"
      },
      "source": [
        "** Your discussion goes here **"
      ]
    },
    {
      "cell_type": "markdown",
      "metadata": {
        "id": "A-nUu5Txtlxt"
      },
      "source": [
        "### 2.3 (10%) Number of Hidden Nodes\n",
        "\n",
        "Using the best LR you discovered, experiment with different numbers of hidden nodes.\n",
        "\n",
        "- Start with 1 hidden node, then 2, and then double them for each test until you get no more improvement in accuracy.\n",
        "- Create a table just like above, except with # of hidden nodes rather than LR.\n",
        "\n",
        "In general, whenever you are testing a parameter such as # of hidden nodes, keep testing values until no more improvement is found. For example, if 20 hidden nodes did better than 10, you would not stop at 20, but would try 40, etc., until you no longer got improvement."
      ]
    },
    {
      "cell_type": "code",
      "execution_count": null,
      "metadata": {
        "id": "uLqeA1iutlxt"
      },
      "outputs": [],
      "source": [
        "import numpy as np\n",
        "import pandas as pd\n",
        "from sklearn.model_selection import train_test_split\n",
        "from sklearn.neural_network import MLPClassifier\n",
        "from scipy.io import arff\n",
        "from sklearn.preprocessing import LabelEncoder\n",
        "from sklearn.metrics import accuracy_score\n",
        "\n",
        "vowel_data = arff.loadarff('vowel.arff')\n",
        "vowel_df = pd.DataFrame(vowel_data[0])\n",
        "vowel_df.head()\n",
        "\n",
        "X = vowel_df.iloc[:, :-1].values\n",
        "y = vowel_df.iloc[:, -1].values\n",
        "\n",
        "label_encoder = LabelEncoder() # Create a LabelEncoder object\n",
        "y = label_encoder.fit_transform(y) # Fit and transform the target variable\n",
        "\n",
        "vowel_df = vowel_df.iloc[:, 1:] #drop the first column bc it is train/test\n",
        "\n",
        "vowel_df['Sex'] = vowel_df['Sex'].str.decode('utf-8') #Changes the byte code data into a normal string, b'Male' becomes \"Male\"\n",
        "vowel_df['Speaker Number'] = vowel_df['Speaker Number'].str.decode('utf-8')\n",
        "\n",
        "vowel_df = vowel_df.replace('Male', 0)\n",
        "vowel_df = vowel_df.replace('Female', 1)\n",
        "vowel_df['Speaker Number'] = vowel_df['Speaker Number'].astype('category').cat.codes\n",
        "\n",
        "X = vowel_df.iloc[:, :-1].values # Features (everything except last column)\n",
        "y = vowel_df.iloc[:, -1].values # Target (last column)\n",
        "\n",
        "label_encoder = LabelEncoder() # Create a LabelEncoder object\n",
        "y = label_encoder.fit_transform(y) # Fit and transform the target variable\n",
        "\n",
        "# Train with different numbers of hidden nodes\n",
        "hidden_nodes = [2, 4, 8, 16, 32, 64]\n",
        "results = []\n",
        "\n",
        "X_train, X_test, y_train, y_test = train_test_split(X, y, test_size=0.2, random_state=42)\n",
        "for h in hidden_nodes:\n",
        "  clf = MLPClassifier(\n",
        "      hidden_layer_sizes=h,\n",
        "      activation='logistic',\n",
        "      solver='sgd',\n",
        "      alpha=0,\n",
        "      batch_size=1,\n",
        "      learning_rate_init=0.01, #best lr is 0.01\n",
        "      shuffle=True,\n",
        "      momentum=0,\n",
        "      max_iter=1000,\n",
        "      random_state=42\n",
        "  )\n",
        "\n",
        "  clf.fit(X_train, y_train)\n",
        "  y_pred = clf.predict(X_test)\n",
        "  results.append({'Num Hidden Nodes': h,\n",
        "                    'num of epochs': clf.n_iter_,\n",
        "                    'training score': clf.score(X_train, y_train),\n",
        "                    'test score': accuracy_score(y_test, y_pred),\n",
        "                    })\n",
        "\n",
        "results = pd.DataFrame(results)\n",
        "results.head(6)\n",
        "\n",
        "#Num Hidden Nodes\tnum of epochs\ttraining score\ttest score\n",
        "#0\t2\t150\t0.527778\t0.419192\n",
        "#1\t4\t180\t0.630051\t0.535354\n",
        "#2\t8\t200\t0.781566\t0.691919\n",
        "#3\t16\t388\t0.957071\t0.878788\n",
        "#4\t32\t406\t0.988636\t0.914141\n",
        "#5\t64\t565\t0.998737\t0.939394 #best hidden node\n",
        "\n"
      ]
    },
    {
      "cell_type": "markdown",
      "metadata": {
        "id": "CLliSMtXtlxt"
      },
      "source": [
        "#### Discussion\n",
        "Discuss your table and the effect of different numbers of hidden nodes on both training time and accuracy"
      ]
    },
    {
      "cell_type": "markdown",
      "metadata": {
        "id": "XvxAqwVKLKWF"
      },
      "source": [
        "** Your discussion goes here **"
      ]
    },
    {
      "cell_type": "markdown",
      "metadata": {
        "id": "v72ryeHXtlxu"
      },
      "source": [
        "### 2.4 (10%) Momentum\n",
        "\n",
        "Try at least 5 different momentum terms between 0 and just less than 1 using the best number of hidden nodes and LR from your earlier experiments.\n",
        "\n",
        "- Create a table just like above, except with momentum values rather than LR or number of hidden nodes."
      ]
    },
    {
      "cell_type": "code",
      "execution_count": null,
      "metadata": {
        "id": "yiEBTL6Vtlxu"
      },
      "outputs": [],
      "source": [
        "import numpy as np\n",
        "import pandas as pd\n",
        "from sklearn.model_selection import train_test_split\n",
        "from sklearn.neural_network import MLPClassifier\n",
        "from scipy.io import arff\n",
        "from sklearn.preprocessing import LabelEncoder\n",
        "from sklearn.metrics import accuracy_score\n",
        "\n",
        "vowel_data = arff.loadarff('vowel.arff')\n",
        "vowel_df = pd.DataFrame(vowel_data[0])\n",
        "vowel_df.head()\n",
        "\n",
        "X = vowel_df.iloc[:, :-1].values\n",
        "y = vowel_df.iloc[:, -1].values\n",
        "\n",
        "label_encoder = LabelEncoder() # Create a LabelEncoder object\n",
        "y = label_encoder.fit_transform(y) # Fit and transform the target variable\n",
        "\n",
        "vowel_df = vowel_df.iloc[:, 1:] #drop the first column bc it is train/test\n",
        "\n",
        "vowel_df['Sex'] = vowel_df['Sex'].str.decode('utf-8') #Changes the byte code data into a normal string, b'Male' becomes \"Male\"\n",
        "vowel_df['Speaker Number'] = vowel_df['Speaker Number'].str.decode('utf-8')\n",
        "\n",
        "vowel_df = vowel_df.replace('Male', 0)\n",
        "vowel_df = vowel_df.replace('Female', 1)\n",
        "vowel_df['Speaker Number'] = vowel_df['Speaker Number'].astype('category').cat.codes\n",
        "\n",
        "X = vowel_df.iloc[:, :-1].values # Features (everything except last column)\n",
        "y = vowel_df.iloc[:, -1].values # Target (last column)\n",
        "\n",
        "label_encoder = LabelEncoder() # Create a LabelEncoder object\n",
        "y = label_encoder.fit_transform(y) # Fit and transform the target variable\n",
        "\n",
        "# Train with different momentum values\n",
        "momentums = [0, 0.1, 0.5, 0.9]\n",
        "results = []\n",
        "\n",
        "label_encoder = LabelEncoder() # Create a LabelEncoder object\n",
        "y = label_encoder.fit_transform(y) # Fit and transform the target variable\n",
        "\n",
        "X_train, X_test, y_train, y_test = train_test_split(X, y, test_size=0.2, random_state=42)\n",
        "\n",
        "for m in momentums:\n",
        "  clf = MLPClassifier(\n",
        "      hidden_layer_sizes=64,  #best hn = 64\n",
        "      activation='logistic',\n",
        "      solver='sgd',\n",
        "      alpha=0,\n",
        "      batch_size=1,\n",
        "      learning_rate_init=0.1, #best accuracy score = 0.1\n",
        "      shuffle=True,\n",
        "      momentum=m,\n",
        "      max_iter=1000\n",
        "  )\n",
        "  clf.fit(X_train, y_train)\n",
        "  y_pred = clf.predict(X_test)\n",
        "  results.append({'Momentum': m,\n",
        "                  'num of epochs': clf.n_iter_,\n",
        "                  'training score': clf.score(X_train, y_train),\n",
        "                  'test score': accuracy_score(y_test, y_pred),\n",
        "                  })\n",
        "\n",
        "results = pd.DataFrame(results)\n",
        "results.head(6)\n",
        "\n",
        "#\n",
        "#Momentum\tnum of epochs\ttraining score\ttest score\n",
        "#0\t0.0\t30\t0.695707\t0.636364 #best momentum\n",
        "#1\t0.1\t30\t0.657828\t0.590909\n",
        "#2\t0.5\t31\t0.510101\t0.419192\n",
        "#3\t0.9\t12\t0.178030\t0.116162\n"
      ]
    },
    {
      "cell_type": "markdown",
      "metadata": {
        "id": "LqidhekCtlxu"
      },
      "source": [
        "#### Discussion\n",
        "Discuss your table and the effect of momentum on both training time and accuracy"
      ]
    },
    {
      "cell_type": "markdown",
      "metadata": {
        "id": "QMTjchtrLKWF"
      },
      "source": [
        "** Your discussion goes here **"
      ]
    },
    {
      "cell_type": "markdown",
      "metadata": {
        "id": "7hHxNgUCtlxv"
      },
      "source": [
        "### 2.5 (10%) Automatic Hyperparameter Discovery\n",
        "Using the vowel dataset, automatically adjust the LR, # of hidden nodes, and momentum using [grid and random search](https://scikit-learn.org/stable/modules/grid_search.html)\n",
        "- For grid search include the most promising hyperparameter values you used in your experiments above.  You may add others also.\n",
        "- Be patient as the grid search can take a while since it has to train all combinations of models. Don't use too many parameter options or it will be too slow.\n",
        "- Report your best hyperparameters and accuracy.  Unfortunately, you will not always get as high a score as you might expect.  This is in part due to the simplicity of the dataset.  It also teaches that in gerneral you should not blindly assume that a tool will get you the results you expect, and that you may need to consider multiple approaches."
      ]
    },
    {
      "cell_type": "code",
      "source": [
        "X = vowel_df.drop(columns=['Class'])\n",
        "Y = vowel_df['Class']\n",
        "le = LabelEncoder()\n",
        "Y = le.fit_transform(y)"
      ],
      "metadata": {
        "id": "nql66GzxsAmd"
      },
      "execution_count": null,
      "outputs": []
    },
    {
      "cell_type": "code",
      "execution_count": null,
      "metadata": {
        "id": "RSQRRx0RLKWF"
      },
      "outputs": [],
      "source": [
        "#Grid search for hyperparameters.\n",
        "#Here is one variation of code you could use for your grid search. You can try your own variation if you prefer.\n",
        "\n",
        "from sklearn.model_selection import GridSearchCV\n",
        "clf = MLPClassifier(activation='logistic', solver='sgd',alpha=0,early_stopping=True, n_iter_no_change=10, batch_size=1)\n",
        "parameters = {'learning_rate_init':(.001, 0.01, 0.1), #You have to fill in the rest of your values for these lists\n",
        "              'hidden_layer_sizes': ([16], [32], [64]),\n",
        "              'momentum':(0, 0.1, 0.5) }\n",
        "grid = GridSearchCV(clf, parameters)\n",
        "grid.fit(X,Y)    #This takes a while to run\n",
        "print(grid.best_params_)\n",
        "print(grid.best_score_)\n",
        "\n",
        "#{'hidden_layer_sizes': 64, 'learning_rate_init': 0.1, 'momentum': 0}\n",
        "#0.5757575757575758\n",
        "\n",
        "#{'hidden_layer_sizes': [16], 'learning_rate_init': 0.01, 'momentum': 0.5}\n",
        "#0.48181818181818176"
      ]
    },
    {
      "cell_type": "code",
      "execution_count": null,
      "metadata": {
        "id": "3zOmVoDsLKWG"
      },
      "outputs": [],
      "source": [
        "#Randomized search for hyperparameters\n",
        "#Here is one variation of code you could use for your randomized search.\n",
        "\n",
        "from sklearn.model_selection import RandomizedSearchCV\n",
        "from scipy.stats import uniform\n",
        "clf = MLPClassifier(activation='logistic', solver='sgd',alpha=0,early_stopping=True, n_iter_no_change=10, batch_size=1)\n",
        "distributions = dict(learning_rate_init=uniform(loc=0.01, scale=.1), #loc is the min val, and loc + scale is the max val\n",
        "                    hidden_layer_sizes = ([8], [16], [32], [64]), #since there is no distribution it samples these values uniformly\n",
        "                    momentum=uniform(loc=0,scale =.99))\n",
        "search = RandomizedSearchCV(clf, distributions, n_iter=10)\n",
        "search.fit(X,Y)\n",
        "print(search.best_params_)\n",
        "print(search.best_score_)"
      ]
    },
    {
      "cell_type": "markdown",
      "metadata": {
        "id": "BqSFAXwlk3Ms"
      },
      "source": [
        "#### Discussion\n",
        "Write about and compare grid and randomized parameter search. How much time do they take? Which is more efficient or accurate? When should you use each?"
      ]
    },
    {
      "cell_type": "markdown",
      "metadata": {
        "id": "BsJ-CnEjLKWG"
      },
      "source": [
        "** Your discussion goes here **"
      ]
    },
    {
      "cell_type": "markdown",
      "metadata": {
        "id": "lIM0rEA9tlxu"
      },
      "source": [
        "## 3 Regression with MLPs\n",
        "\n",
        "### 3.1 (10%) - Learn a regression data set of your choice\n",
        "\n",
        "Train MLP on any real world data set that requires regression (i.e. has a real valued ouput) and discuss your effort and results.  While the [Irvine ML Repository](https://archive.ics.uci.edu) is a great resource, also onsider [Kaggle](https://www.kaggle.com) and [OpenML](https://openml.org) as other great places to find datasets.\n",
        "- Use [MLPRegressor](https://scikit-learn.org/stable/modules/generated/sklearn.neural_network.MLPRegressor.html#sklearn.neural_network.MLPRegressor) rather than MLPclassifier.  It has almost the exact same setup as MLPClassier except it uses the linear activation function for the output nodes and SSE as the loss function.  MLPClassier uses softmax activation for the output nodes and cross-entropy for the loss function.\n",
        "- Use any reasonable hyperparameters that you want.  \n",
        "- You will probably need to normalize input features.\n",
        "- It is not typically necessary to normalize the output.\n",
        "- Split into train and test and report the training and test set MAEs (Mean Absolute Error). For regression problems where we don't normalize the output, MAE is an intuitive measure as it shows exactly how much our output is off on average."
      ]
    },
    {
      "cell_type": "code",
      "execution_count": null,
      "metadata": {
        "id": "OFQv70W2VyqJ"
      },
      "outputs": [],
      "source": [
        "import numpy as np\n",
        "import pandas as pd\n",
        "from sklearn.model_selection import train_test_split\n",
        "from sklearn.neural_network import MLPRegressor\n",
        "from scipy.io import arff\n",
        "from sklearn.preprocessing import LabelEncoder\n",
        "from sklearn.metrics import accuracy_score\n",
        "\n",
        "abalone_df= pd.read_csv('abalone.data')\n",
        "abalone_df.head()\n"
      ]
    },
    {
      "cell_type": "code",
      "source": [
        "abalone_df.columns = ['Gender', 'length', 'diameter', 'height', 'Whole weight', 'Shucked weight', 'Viscera weight', 'Shell weight', 'Rings']\n",
        "#REMEMBER ME: if this top line gives an error, run the cell before because it mistakening how many attributes\n",
        "\n",
        "#print(abalone_df)\n",
        "X = abalone_df.iloc[:, 1:-1].values\n",
        "#print(X)\n",
        "y = abalone_df.iloc[:, -1].values\n",
        "#print(y)\n",
        "X_train, X_test, y_train, y_test = train_test_split(X, y, test_size=0.5, random_state = None)\n",
        "\n",
        "# clean up the features\n",
        "abalone_df = abalone_df.drop(columns=['Gender'])\n",
        "#Dropping gender because we are predicting the age of abalone from physical measurements.\n",
        "\n",
        "# since age is determined by # of rings in a shell, Rings would be y\n",
        "X = abalone_df.drop(columns=['Rings'])\n",
        "y = abalone_df['Rings']\n",
        "\n",
        "#debug to check\n",
        "print(X)\n",
        "print(y)"
      ],
      "metadata": {
        "id": "cCo0S3deDBe1"
      },
      "execution_count": null,
      "outputs": []
    },
    {
      "cell_type": "code",
      "source": [
        "#splitting the data\n",
        "X_train, X_test, y_train, y_test = train_test_split(X, y, test_size=0.25)"
      ],
      "metadata": {
        "id": "pPu0pYa_gW-O"
      },
      "execution_count": null,
      "outputs": []
    },
    {
      "cell_type": "code",
      "source": [
        "from sklearn.preprocessing import StandardScaler\n",
        "#You will probably need to normalize input features.\n",
        "scalar = StandardScaler()\n",
        "X_train_scaled = scalar.fit_transform(X_train)\n",
        "X_test_scaled = scalar.transform(X_test)"
      ],
      "metadata": {
        "id": "2xNXVLqiGFN5"
      },
      "execution_count": null,
      "outputs": []
    },
    {
      "cell_type": "code",
      "source": [
        "#DEBUG\n",
        "print(\"Before Scaling (First 5 Rows):\")\n",
        "print(X_train[:5])\n",
        "\n",
        "scaler = StandardScaler()\n",
        "X_train_scaled = scaler.fit_transform(X_train)\n",
        "X_test_scaled = scaler.transform(X_test)\n",
        "\n",
        "print(\"\\nAfter Scaling (First 5 Rows):\")\n",
        "print(X_train_scaled[:5])  # Show scaled data\n",
        "\n",
        "print(\"\\nMean after Scaling:\", X_train_scaled.mean(axis=0))  # Should be ~0\n",
        "print(\"Standard Deviation after Scaling:\", X_train_scaled.std(axis=0))  # Should be ~1\n",
        "\n"
      ],
      "metadata": {
        "id": "5y1p_sIyHs4Y"
      },
      "execution_count": null,
      "outputs": []
    },
    {
      "cell_type": "code",
      "source": [
        "#training with MLP REGRESSOR\n",
        "#Use any reasonable hyperparameters that you want.\n",
        "mlp_regressor = MLPRegressor(hidden_layer_sizes=([64]),\n",
        "                             activation='relu',\n",
        "                             max_iter=10000,\n",
        "                             random_state=42)\n",
        "mlp_regressor.fit(X_train_scaled, y_train)"
      ],
      "metadata": {
        "id": "n-p2aPFAIIN0"
      },
      "execution_count": null,
      "outputs": []
    },
    {
      "cell_type": "code",
      "source": [
        "#Split into train and test and report the training and test set MAEs (Mean Absolute Error).\n",
        "#For regression problems where we don't normalize the output,\n",
        "#MAE is an intuitive measure as it shows exactly how much our output is off on average.\n",
        "from sklearn.metrics import mean_absolute_error\n",
        "\n",
        "y_train_pred = mlp_regressor.predict(X_train_scaled)\n",
        "print(y_train_pred)\n",
        "y_test_pred = mlp_regressor.predict(X_test_scaled)\n",
        "print(y_test_pred)\n",
        "\n",
        "train_mae = mean_absolute_error(y_train, y_train_pred)\n",
        "test_mae = mean_absolute_error(y_test, y_test_pred)\n",
        "\n",
        "print(f'Training MAE: {train_mae:.3f}')\n",
        "print(f'Test MAE: {test_mae:.3f}')\n",
        "\n",
        "#Training MAE: 1.485\n",
        "#Test MAE: 1.519"
      ],
      "metadata": {
        "id": "rgAor75SIT4u"
      },
      "execution_count": null,
      "outputs": []
    },
    {
      "cell_type": "code",
      "source": [
        "#finding the age\n",
        "import matplotlib.pyplot as plt\n",
        "\n",
        "def plot_actual_vs_predicted(y_train, y_train_pred, y_test, y_test_pred):\n",
        "\n",
        "    # Scatter plot for training data\n",
        "    plt.figure(figsize=(10, 6))\n",
        "    plt.scatter(y_train, y_train_pred, alpha=0.5)\n",
        "    plt.title('Actual vs Predicted AGE (Training set)')\n",
        "    plt.xlabel('Actual AGE')\n",
        "    plt.ylabel('Predicted AGE')\n",
        "    plt.grid(True)\n",
        "    plt.show()\n",
        "\n",
        "    # Scatter plot for test data\n",
        "    plt.figure(figsize=(10, 6))\n",
        "    plt.scatter(y_test, y_test_pred, alpha=0.5, color='red')\n",
        "    plt.title('Actual vs Predicted AGE (Test set)')\n",
        "    plt.xlabel('Actual AGE')\n",
        "    plt.ylabel('Predicted AGE')\n",
        "    plt.grid(True)\n",
        "    plt.show()\n",
        "\n",
        "plot_actual_vs_predicted(y_train, y_train_pred, y_test, y_test_pred)"
      ],
      "metadata": {
        "id": "BO9_rg7egkY-"
      },
      "execution_count": null,
      "outputs": []
    },
    {
      "cell_type": "markdown",
      "metadata": {
        "id": "5oi9y5nLLKWG"
      },
      "source": [
        "#### Discussion\n",
        "Report on your choice of data set and your results. How does the MLPRegressor differ from the MLPClassifier? What are their respective uses? What lessons from above did you use?"
      ]
    },
    {
      "cell_type": "markdown",
      "metadata": {
        "id": "GtC6eLj6LKWG"
      },
      "source": [
        "** Your discussion goes here **"
      ]
    },
    {
      "cell_type": "markdown",
      "metadata": {
        "id": "V--LZpjKLKWG"
      },
      "source": [
        "### 3.2 (10%) - Other MLP Hyperparameters\n",
        "With the same data set, you may (not required) experiment with some of the hyperparameters you already did above (LR, hidden nodes, momentum, validation set parameters, regularization).  But for sure experiment with and discuss the results of the first two hyperparameters below (activation functions and multiple hidden layers).  We encourage you to experiment briefly with the others but they are not required.\n",
        "\n",
        "- different hidden layer activation functions (tanh, relu in addition to logistic) - Note that Sklearn does not currently let you choose the output layer activation function.  It is automatically softmax for classification and linear for regression.\n",
        "- more than one hidden layer\n",
        "- solver - try adam and lbfgs in addition to sgd\n",
        "- batch size\n",
        "- learning rate adaptation - this is the schedule parameter which lets LR adapt during learning"
      ]
    },
    {
      "cell_type": "code",
      "execution_count": null,
      "metadata": {
        "id": "Hu1JE4vStlxv"
      },
      "outputs": [],
      "source": [
        "# Run with different hyperparameters\n",
        "#LR\n",
        "#hidden nodes\n",
        "#momentum\n",
        "#validation set\n",
        "#parameters\n",
        "#regularization)"
      ]
    },
    {
      "cell_type": "markdown",
      "metadata": {
        "id": "HScVQasltlxv"
      },
      "source": [
        "#### Discussion\n",
        "How do the hyperparameters affect your accuracy? Specifically the number of layers and nodes and activation functions you experimented with. Do the solver, batch size, and learning rate adaptation affect anything?\n"
      ]
    },
    {
      "cell_type": "markdown",
      "metadata": {
        "id": "FSYAYlDfLKWH"
      },
      "source": [
        "** Your discussion goes here **"
      ]
    },
    {
      "cell_type": "markdown",
      "metadata": {
        "id": "cTlK-kijk8Mg"
      },
      "source": [
        "## 4. (Optional 20% extra credit) Code up your own MLP/Backprop learner\n",
        "Below is a scaffold you could use if you want. Requirements for this task:\n",
        "- Your model should support the methods shown in the example scaffold below.\n",
        "- Ability to create a network structure with at least one hidden layer and an arbitrary number of nodes. You may choose just one non-linear activation function for all hidden and output nodes if you want (e.g. sigmoid activation function where the loss is SSE rather than cross-entropy).\n",
        "- Random weight initialization with small random weights with 0 mean. Remember that every hidden and output node should have its own bias weight.\n",
        "- Use stochastic training updates: update weights after each training instance (i.e. not batch)\n",
        "- Option to include a momentum term\n",
        "- Your class can inherit from the relevant scikit-learn learners (e.g. data shuffling, etc.), but don't call any of the super methods to accomplish the core methods in the scaffold.\n",
        "- Run the Iris data set above with your Backprop version. Show and discuss your results and how they compare with the sklearn version.\n",
        "- Coding MLP is a good experience but is a little more challening than implementing other models so the extra credit points are higher than typical."
      ]
    },
    {
      "cell_type": "markdown",
      "metadata": {
        "id": "rokMDC3Qtlxv"
      },
      "source": [
        "*Discuss your results and any differences*"
      ]
    },
    {
      "cell_type": "code",
      "execution_count": null,
      "metadata": {
        "id": "hn8n_iR8tlxv"
      },
      "outputs": [],
      "source": [
        "from sklearn.base import BaseEstimator, ClassifierMixin\n",
        "\n",
        "class MLP(BaseEstimator,ClassifierMixin):\n",
        "\n",
        "    def __init__(self,lr=.1, momentum=0, shuffle=True,hidden_layer_widths=None):\n",
        "        \"\"\" Initialize class with chosen hyperparameters.\n",
        "\n",
        "        Args:\n",
        "            lr (float): A learning rate / step size.\n",
        "            shuffle(boolean): Whether to shuffle the training data each epoch. DO NOT SHUFFLE for evaluation / debug datasets.\n",
        "            momentum(float): The momentum coefficent\n",
        "        Optional Args (Args we think will make your life easier):\n",
        "            hidden_layer_widths (list(int)): A list of integers which defines the width of each hidden layer if hidden layer is none do twice as many hidden nodes as input nodes. (and then one more for the bias node)\n",
        "            For example: input width 1, then hidden layer will be 3 nodes\n",
        "        Example:\n",
        "            mlp = MLP(lr=.2,momentum=.5,shuffle=False,hidden_layer_widths = [3,3]),  <--- this will create a model with two hidden layers, both 3 nodes wide\n",
        "        \"\"\"\n",
        "        self.hidden_layer_widths\n",
        "        self.lr = lr\n",
        "        self.momentum = momentum\n",
        "        self.shuffle = shuffle\n",
        "\n",
        "\n",
        "    def fit(self, X, y, initial_weights=None):\n",
        "        \"\"\" Fit the data; run the algorithm and adjust the weights to find a good solution\n",
        "\n",
        "        Args:\n",
        "            X (array-like): A 2D numpy array with the training data, excluding targets\n",
        "            y (array-like): A 2D numpy array with the training targets\n",
        "        Optional Args (Args we think will make your life easier):\n",
        "            initial_weights (array-like): allows the user to provide initial weights\n",
        "        Returns:\n",
        "            self: this allows this to be chained, e.g. model.fit(X,y).predict(X_test)\n",
        "\n",
        "        \"\"\"\n",
        "        self.weights = self.initialize_weights() if not initial_weights else initial_weights\n",
        "\n",
        "        return self\n",
        "\n",
        "    def predict(self, X):\n",
        "        \"\"\" Predict all classes for a dataset X\n",
        "        Args:\n",
        "            X (array-like): A 2D numpy array with the training data, excluding targets\n",
        "        Returns:\n",
        "            array, shape (n_samples,)\n",
        "                Predicted target values per element in X.\n",
        "        \"\"\"\n",
        "        pass\n",
        "\n",
        "    def initialize_weights(self):\n",
        "        \"\"\" Initialize weights for perceptron. Don't forget the bias!\n",
        "\n",
        "        Returns:\n",
        "\n",
        "        \"\"\"\n",
        "\n",
        "        return [0]\n",
        "\n",
        "    def score(self, X, y):\n",
        "        \"\"\" Return accuracy of model on a given dataset. Must implement own score function.\n",
        "\n",
        "        Args:\n",
        "            X (array-like): A 2D numpy array with data, excluding targets\n",
        "            y (array-like): A 2D numpy array with targets\n",
        "\n",
        "        Returns:\n",
        "            score : float\n",
        "                Mean accuracy of self.predict(X) wrt. y.\n",
        "        \"\"\"\n",
        "\n",
        "        return 0\n",
        "\n",
        "    ###  Returns the weights. Not required but helpful for debugging\n",
        "    def get_weights(self):\n",
        "        pass\n"
      ]
    }
  ],
  "metadata": {
    "colab": {
      "provenance": []
    },
    "kernelspec": {
      "display_name": "Python 2.7.16 64-bit",
      "language": "python",
      "name": "python3"
    },
    "language_info": {
      "codemirror_mode": {
        "name": "ipython",
        "version": 3
      },
      "file_extension": ".py",
      "mimetype": "text/x-python",
      "name": "python",
      "nbconvert_exporter": "python",
      "pygments_lexer": "ipython3",
      "version": "2.7.16"
    },
    "vscode": {
      "interpreter": {
        "hash": "767d51c1340bd893661ea55ea3124f6de3c7a262a8b4abca0554b478b1e2ff90"
      }
    }
  },
  "nbformat": 4,
  "nbformat_minor": 0
}